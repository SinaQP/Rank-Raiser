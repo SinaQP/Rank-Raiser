{
  "nbformat": 4,
  "nbformat_minor": 0,
  "metadata": {
    "colab": {
      "provenance": [],
      "authorship_tag": "ABX9TyPCUkfZJJPMAUqG9jcbcjpk",
      "include_colab_link": true
    },
    "kernelspec": {
      "name": "python3",
      "display_name": "Python 3"
    },
    "language_info": {
      "name": "python"
    }
  },
  "cells": [
    {
      "cell_type": "markdown",
      "metadata": {
        "id": "view-in-github",
        "colab_type": "text"
      },
      "source": [
        "<a href=\"https://colab.research.google.com/github/SinaQP/Rank-Raiser/blob/main/Rank_Raiser.ipynb\" target=\"_parent\"><img src=\"https://colab.research.google.com/assets/colab-badge.svg\" alt=\"Open In Colab\"/></a>"
      ]
    },
    {
      "cell_type": "markdown",
      "source": [
        "# **Rank-Raiser**"
      ],
      "metadata": {
        "id": "HIvsIEoYOw1D"
      }
    },
    {
      "cell_type": "code",
      "source": [
        "%pip install openai langchain langchain-community langchain-openai faiss-cpu --upgrade --quiet"
      ],
      "metadata": {
        "colab": {
          "base_uri": "https://localhost:8080/"
        },
        "id": "78viNrgOO5b9",
        "outputId": "3af73d03-8da1-445d-ab5e-aadaedb0fe50"
      },
      "execution_count": 2,
      "outputs": [
        {
          "output_type": "stream",
          "name": "stdout",
          "text": [
            "\u001b[?25l   \u001b[90m━━━━━━━━━━━━━━━━━━━━━━━━━━━━━━━━━━━━━━━━\u001b[0m \u001b[32m0.0/1.0 MB\u001b[0m \u001b[31m?\u001b[0m eta \u001b[36m-:--:--\u001b[0m\r\u001b[2K   \u001b[91m━━━━━━━━━━━━━━━━━━━━━━━\u001b[0m\u001b[91m╸\u001b[0m\u001b[90m━━━━━━━━━━━━━━━━\u001b[0m \u001b[32m0.6/1.0 MB\u001b[0m \u001b[31m19.0 MB/s\u001b[0m eta \u001b[36m0:00:01\u001b[0m\r\u001b[2K   \u001b[90m━━━━━━━━━━━━━━━━━━━━━━━━━━━━━━━━━━━━━━━━\u001b[0m \u001b[32m1.0/1.0 MB\u001b[0m \u001b[31m17.5 MB/s\u001b[0m eta \u001b[36m0:00:00\u001b[0m\n",
            "\u001b[?25h\u001b[?25l   \u001b[90m━━━━━━━━━━━━━━━━━━━━━━━━━━━━━━━━━━━━━━━━\u001b[0m \u001b[32m0.0/2.5 MB\u001b[0m \u001b[31m?\u001b[0m eta \u001b[36m-:--:--\u001b[0m\r\u001b[2K   \u001b[91m━━━━━━━━━━━━━━━━━━━━━━━━━━━━━━━━━━━━━━━\u001b[0m\u001b[91m╸\u001b[0m \u001b[32m2.5/2.5 MB\u001b[0m \u001b[31m111.0 MB/s\u001b[0m eta \u001b[36m0:00:01\u001b[0m\r\u001b[2K   \u001b[90m━━━━━━━━━━━━━━━━━━━━━━━━━━━━━━━━━━━━━━━━\u001b[0m \u001b[32m2.5/2.5 MB\u001b[0m \u001b[31m49.4 MB/s\u001b[0m eta \u001b[36m0:00:00\u001b[0m\n",
            "\u001b[2K   \u001b[90m━━━━━━━━━━━━━━━━━━━━━━━━━━━━━━━━━━━━━━━━\u001b[0m \u001b[32m54.7/54.7 kB\u001b[0m \u001b[31m3.3 MB/s\u001b[0m eta \u001b[36m0:00:00\u001b[0m\n",
            "\u001b[2K   \u001b[90m━━━━━━━━━━━━━━━━━━━━━━━━━━━━━━━━━━━━━━━━\u001b[0m \u001b[32m30.7/30.7 MB\u001b[0m \u001b[31m41.0 MB/s\u001b[0m eta \u001b[36m0:00:00\u001b[0m\n",
            "\u001b[2K   \u001b[90m━━━━━━━━━━━━━━━━━━━━━━━━━━━━━━━━━━━━━━━━\u001b[0m \u001b[32m413.0/413.0 kB\u001b[0m \u001b[31m18.5 MB/s\u001b[0m eta \u001b[36m0:00:00\u001b[0m\n",
            "\u001b[2K   \u001b[90m━━━━━━━━━━━━━━━━━━━━━━━━━━━━━━━━━━━━━━━━\u001b[0m \u001b[32m1.2/1.2 MB\u001b[0m \u001b[31m30.0 MB/s\u001b[0m eta \u001b[36m0:00:00\u001b[0m\n",
            "\u001b[2K   \u001b[90m━━━━━━━━━━━━━━━━━━━━━━━━━━━━━━━━━━━━━━━━\u001b[0m \u001b[32m50.9/50.9 kB\u001b[0m \u001b[31m3.1 MB/s\u001b[0m eta \u001b[36m0:00:00\u001b[0m\n",
            "\u001b[?25h"
          ]
        }
      ]
    },
    {
      "cell_type": "code",
      "execution_count": 3,
      "metadata": {
        "id": "hQhrEXZoGyXG"
      },
      "outputs": [],
      "source": [
        "import os\n",
        "import openai\n",
        "from langchain.chat_models import ChatOpenAI\n",
        "from langchain.embeddings import OpenAIEmbeddings\n",
        "\n",
        "class AvalaiClient:\n",
        "    def __init__(self, api_key=\"\", base_url=\"\", model_name=\"gpt-4o-mini\"):\n",
        "        self.api_key, self.base_url = self._set_api_config(api_key, base_url)\n",
        "        self.model_name = model_name\n",
        "        self.client = openai.OpenAI(api_key=self.api_key, base_url=self.base_url)\n",
        "\n",
        "    def get_model(self):\n",
        "        return ChatOpenAI(model_name=self.model_name, openai_api_key=self.api_key, openai_api_base=self.base_url)\n",
        "\n",
        "    def get_embeddings(self):\n",
        "        return OpenAIEmbeddings(openai_api_key=self.api_key, openai_api_base=self.base_url)\n",
        "\n",
        "    def _set_api_config(self, api_key, base_url):\n",
        "        default_api_key = \"\"\n",
        "        default_base_url = \"https://api.avalai.ir/v1\"\n",
        "        return api_key or default_api_key, base_url or default_base_url"
      ]
    },
    {
      "cell_type": "code",
      "source": [
        "avalai_client = AvalaiClient()\n",
        "llm = avalai_client.get_model()"
      ],
      "metadata": {
        "colab": {
          "base_uri": "https://localhost:8080/"
        },
        "id": "D9rzlE0pOyYK",
        "outputId": "aa48000a-990e-4bb5-81e7-4e56ffa905d3"
      },
      "execution_count": 4,
      "outputs": [
        {
          "output_type": "stream",
          "name": "stderr",
          "text": [
            "<ipython-input-3-9f6365691e6c>:13: LangChainDeprecationWarning: The class `ChatOpenAI` was deprecated in LangChain 0.0.10 and will be removed in 1.0. An updated version of the class exists in the :class:`~langchain-openai package and should be used instead. To use it run `pip install -U :class:`~langchain-openai` and import as `from :class:`~langchain_openai import ChatOpenAI``.\n",
            "  return ChatOpenAI(model_name=self.model_name, openai_api_key=self.api_key, openai_api_base=self.base_url)\n"
          ]
        }
      ]
    },
    {
      "cell_type": "code",
      "source": [
        "def generate_persian_outline(blog_post_title: str, total_headings_number: int = 5):\n",
        "    prompt = f\"\"\"\n",
        "    شما یک تولیدکننده محتوا برای یک آژانس سئو هستید و مسئول نوشتن یک طرح کلی برای مقاله زیر می‌باشید:\n",
        "\n",
        "    عنوان مقاله: {blog_post_title}\n",
        "    تعداد کل سرفصل‌ها: {total_headings_number}\n",
        "\n",
        "    لطفاً طرح کلی را با استفاده از ساختار زیر آماده کنید:\n",
        "    - سرفصل اصلی 1\n",
        "    - سرفصل اصلی 2\n",
        "    - سرفصل اصلی 3\n",
        "    \"\"\"\n",
        "    response = llm.predict(prompt)\n",
        "    return response.strip()\n",
        "\n",
        "def generate_persian_introduction(outlines: list, max_tokens: int = 2048):\n",
        "    outline_text = \"\\n\".join([f\"- {heading}\" for heading in outlines])\n",
        "\n",
        "    prompt = f\"\"\"\n",
        "    شما یک نویسنده حرفه‌ای هستید و باید مقدمه مقاله را بنویسید.\n",
        "    لطفاً مقدمه‌ای بنویسید که شامل سرفصل‌های زیر باشد:\n",
        "    {outline_text}\n",
        "    متن باید روان، جذاب و متناسب با اصول سئو باشد.\n",
        "    \"\"\"\n",
        "\n",
        "    # در ابتدا درخواست برای دریافت مقدمه\n",
        "    response = llm.predict(prompt)\n",
        "\n",
        "    # در صورتی که توکن‌های مدل محدود باشد، ادامه محتوا را درخواست می‌کنیم\n",
        "    while len(response.split()) >= max_tokens:\n",
        "        prompt += f\"\\nادامه بده:\"\n",
        "        response += llm.predict(prompt)\n",
        "\n",
        "    return response.strip()\n",
        "\n",
        "persian_outline = generate_persian_outline(\"مک بوک بهتره یا کامپیوتر؟\", total_headings_number=7)\n",
        "persian_intro = generate_persian_introduction(persian_outline)"
      ],
      "metadata": {
        "id": "q6VkHd1aPIWn"
      },
      "execution_count": 11,
      "outputs": []
    },
    {
      "cell_type": "code",
      "source": [
        "print(persian_intro)\n",
        "print(\"_____________\")\n",
        "print(persian_outline)"
      ],
      "metadata": {
        "colab": {
          "base_uri": "https://localhost:8080/"
        },
        "id": "yNQfaOBGQEG0",
        "outputId": "a8310387-fceb-44ca-e403-4e4cc2c2ec8a"
      },
      "execution_count": 15,
      "outputs": [
        {
          "output_type": "stream",
          "name": "stdout",
          "text": [
            "**مقدمه:**\n",
            "\n",
            "در دنیای پرشتاب و متغیر امروزی، انتخاب یک کامپیوتر مناسب به یک چالش جدی تبدیل شده است. با وجود تنوع و گوناگونی محصولات در بازار، کاربران باید با دقت بیشتری به بررسی جزئیات فنی و ویژگی‌های مختلف کامپیوترها بپردازند. در این مقاله، به بررسی این موضوع خواهیم پرداخت که \"مک بوک بهتر از یک کامپیوتر چیست؟\" و سعی خواهیم کرد تا با تحلیل جوانب مختلف، به این سوال پاسخ دهیم.\n",
            "\n",
            "**سرفصل اصلی 1: مقدمه**\n",
            "\n",
            "در این بخش، به معرفی مفهوم کلی مک بوک و کامپیوترهای شخصی خواهیم پرداخت. همچنین، به بررسی ویژگی‌ها و مزایای اصلی هر یک از این دو نوع دستگاه خواهیم پرداخت تا درک بهتری از تفاوت‌های موجود بین آن‌ها حاصل شود.\n",
            "\n",
            "- **معرفی موضوع و اهمیت انتخاب بین مک بوک و کامپیوتر**\n",
            "- **توضیح مختصر در مورد نیازهای مختلف کاربران**\n",
            "\n",
            "**سرفصل اصلی 2: طراحی و ساخت**\n",
            "\n",
            "طراحی و ساخت مک بوک و کامپیوترهای شخصی از جمله عواملی است که تأثیر زیادی بر تجربه کاربری دارد. در این بخش، به بررسی طراحی ظاهری، کیفیت ساخت و مواد استفاده شده در هر یک خواهیم پرداخت.\n",
            "\n",
            "- **بررسی طراحی ظاهری و کیفیت ساخت**\n",
            "- **مقایسه بین مک بوک و کامپیوترهای شخصی از نظر زیبایی و کاربردی بودن**\n",
            "- **تأثیر طراحی بر تجربه کاربری**\n",
            "\n",
            "**سرفصل اصلی 3: عملکرد و قدرت پردازش**\n",
            "\n",
            "عملکرد و قدرت پردازش یکی از مهم‌ترین معیارها در انتخاب یک دستگاه است. در این بخش، به بررسی ویژگی‌های فنی و عملکردی مک بوک‌ها و کامپیوترها خواهیم پرداخت.\n",
            "\n",
            "- **مقایسه قدرت پردازش و عملکرد گرافیکی**\n",
            "- **بررسی توانایی پردازش در کاربری‌های مختلف**\n",
            "\n",
            "**سرفصل اصلی 4: سیستم‌عامل و نرم‌افزار**\n",
            "\n",
            "سیستم‌عامل و نرم‌افزارهای قابل استفاده روی مک بوک و کامپیوترهای شخصی نیز از اهمیت ویژه‌ای برخوردارند. در این بخش، به بررسی تفاوت‌های کلیدی بین macOS و Windows خواهیم پرداخت.\n",
            "\n",
            "- **معرفی سیستم‌عامل و نرم‌افزارهای مرتبط**\n",
            "- **مقایسه قابلیت‌ها و امکانات هر یک از سیستم‌عامل‌ها**\n",
            "\n",
            "**سرفصل اصلی 5: قیمت و ارزش خرید**\n",
            "\n",
            "در نهایت، قیمت و ارزش خرید هر یک از این دستگاه‌ها از دیگر عوامل مهم در انتخاب آن‌هاست. در این بخش، به بررسی قیمت‌ها و نسبت ارزش به هزینه خواهیم پرداخت.\n",
            "\n",
            "- **بررسی قیمت‌ها و مقایسه هزینه‌ها**\n",
            "- **تأثیر قیمت بر انتخاب کاربران**\n",
            "\n",
            "**سرفصل اصلی 6: قابلیت حمل و نگهداری**\n",
            "\n",
            "قابلیت حمل و نگهداری مک بوک و کامپیوترها نیز از دیگر عواملی است که باید مورد توجه قرار گیرد. در این بخش، به بررسی مزایا و معایب هر یک خواهیم پرداخت.\n",
            "\n",
            "- **بررسی قابلیت حمل و وزن دستگاه‌ها**\n",
            "- **مقایسه نگهداری و تعمیرات**\n",
            "\n",
            "**سرفصل اصلی 7: نتیجه‌گیری**\n",
            "\n",
            "در پایان، با جمع‌بندی نکات مطرح شده در مقاله، به ارائه یک نتیجه‌گیری کلی خواهیم پرداخت که به کاربران کمک کند تا بهترین انتخاب را بر اساس نیازها و اولویت‌های خود داشته باشند.\n",
            "\n",
            "با توجه به همه این جوانب، این مقاله در نظر دارد تا به شما کمک کند تا تصمیم بهتری در انتخاب میان مک بوک و کامپیوترهای شخصی بگیرید.\n",
            "_____________\n",
            "**طرح کلی مقاله: مک بوک بهتره یا کامپیوتر؟**\n",
            "\n",
            "- **سرفصل اصلی 1: مقدمه**\n",
            "  - معرفی موضوع و اهمیت انتخاب بین مک بوک و کامپیوتر\n",
            "  - توضیح مختصر درباره نیازهای مختلف کاربران\n",
            "\n",
            "- **سرفصل اصلی 2: طراحی و ساختار**\n",
            "  - بررسی طراحی ظاهری و کیفیت ساخت مک بوک\n",
            "  - مقایسه با طراحی و ساختار کامپیوترهای مختلف\n",
            "  - تأثیر طراحی بر تجربه کاربری\n",
            "\n",
            "- **سرفصل اصلی 3: عملکرد و قدرت پردازش**\n",
            "  - مقایسه قدرت پردازش مک بوک و کامپیوتر\n",
            "  - بررسی انواع پردازنده‌ها و RAM در هر دو دسته\n",
            "  - تحلیل عملکرد در نرم‌افزارهای مختلف (گرافیکی، مدیریتی و…)\n",
            "\n",
            "- **سرفصل اصلی 4: سیستم‌عامل و نرم‌افزار**\n",
            "  - توضیح درباره macOS و مزایای آن\n",
            "  - بررسی ویندوز و نرم‌افزارهای متناسب با آن\n",
            "  - مقایسه نرم‌افزارهای اختصاصی هر سیستم‌عامل\n",
            "\n",
            "- **سرفصل اصلی 5: قیمت و ارزش خرید**\n",
            "  - بررسی قیمت‌های مک بوک و کامپیوترهای مختلف\n",
            "  - تحلیل ارزش خرید برای کاربران با بودجه‌های متفاوت\n",
            "  - نکات مربوط به هزینه‌های طولانی‌مدت (نگهداری، تعمیرات و…)\n",
            "\n",
            "- **سرفصل اصلی 6: قابلیت‌ حمل و باتری**\n",
            "  - مقایسه وزن و اندازه مک بوک و کامپیوتر\n",
            "  - بررسی عمر باتری و عملکرد در شرایط مختلف\n",
            "  - اهمیت قابلیت حمل برای کاربران مختلف\n",
            "\n",
            "- **سرفصل اصلی 7: نتیجه‌گیری و پیشنهادات نهایی**\n",
            "  - جمع‌بندی مزایا و معایب هر دو گزینه\n",
            "  - پیشنهاداتی برای انتخاب مناسب بر اساس نیازهای کاربران\n",
            "  - تأکید بر اهمیت تفکر در انتخاب نهایی\n"
          ]
        }
      ]
    },
    {
      "cell_type": "code",
      "source": [],
      "metadata": {
        "id": "MqQQxnsjRPoW"
      },
      "execution_count": null,
      "outputs": []
    }
  ]
}